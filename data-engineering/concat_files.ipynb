{
 "cells": [
  {
   "cell_type": "code",
   "execution_count": 1,
   "metadata": {},
   "outputs": [],
   "source": [
    "import pandas as pd"
   ]
  },
  {
   "cell_type": "code",
   "execution_count": 4,
   "metadata": {},
   "outputs": [
    {
     "name": "stderr",
     "output_type": "stream",
     "text": [
      "/var/folders/68/6vxh_8k15_n5m7tsxrjkzsvm0000gn/T/ipykernel_28902/7564888.py:1: DtypeWarning: Columns (0,1,3,4,5,6,7,8,9,10,14,15,16) have mixed types. Specify dtype option on import or set low_memory=False.\n",
      "  df = pd.read_csv(\"data/Feb_28/liked-tweets-0.csv\")\n"
     ]
    }
   ],
   "source": [
    "df = pd.read_csv(\"data/Feb_28/liked-tweets-0.csv\")"
   ]
  },
  {
   "cell_type": "code",
   "execution_count": 5,
   "metadata": {},
   "outputs": [
    {
     "data": {
      "text/plain": [
       "6780"
      ]
     },
     "execution_count": 5,
     "metadata": {},
     "output_type": "execute_result"
    }
   ],
   "source": [
    "len(set(df['id']))"
   ]
  },
  {
   "cell_type": "code",
   "execution_count": 28,
   "metadata": {},
   "outputs": [],
   "source": [
    "df[df['current_time'] > '2023-01-01'].to_csv('data/february/users-stream-february.csv', index=False)"
   ]
  },
  {
   "cell_type": "code",
   "execution_count": 29,
   "metadata": {},
   "outputs": [],
   "source": [
    "df = pd.read_csv(\"data/february/liked-tweets-0.csv\")"
   ]
  },
  {
   "cell_type": "code",
   "execution_count": 22,
   "metadata": {},
   "outputs": [
    {
     "data": {
      "text/plain": [
       "2023-02-06     7098\n",
       "Name:  current_time, dtype: int64"
      ]
     },
     "execution_count": 22,
     "metadata": {},
     "output_type": "execute_result"
    }
   ],
   "source": [
    "df[df[' current_time'] > '2023-01-01'][' current_time'].str[:11].value_counts()"
   ]
  },
  {
   "cell_type": "code",
   "execution_count": 19,
   "metadata": {},
   "outputs": [],
   "source": [
    "df1 = pd.read_csv('data/data_stream/tweets-stream-1.csv')\n",
    "df2 = pd.read_csv('data/data_stream/tweets-stream-2.csv')\n",
    "df3 = pd.read_csv('data/data_stream/tweets-stream-3.csv')\n",
    "df4 = pd.read_csv('data/data_stream/tweets-stream-4.csv')\n",
    "df5 = pd.read_csv('data/data_stream/tweets-stream-5.csv')\n",
    "df6 = pd.read_csv('data/data_stream/tweets-stream-6.csv')"
   ]
  },
  {
   "cell_type": "code",
   "execution_count": 20,
   "metadata": {},
   "outputs": [],
   "source": [
    "df = pd.concat([df1,  df2, df3, df4, df5, df6], axis=0)"
   ]
  },
  {
   "cell_type": "code",
   "execution_count": 21,
   "metadata": {},
   "outputs": [],
   "source": [
    "df.to_csv('data/data_stream/tweets-stream.csv', index=False)"
   ]
  },
  {
   "cell_type": "code",
   "execution_count": 23,
   "metadata": {},
   "outputs": [],
   "source": [
    "df1 = pd.read_csv('data/data_stream/users-stream-1.csv')\n",
    "df2 = pd.read_csv('data/data_stream/users-stream-2.csv')\n",
    "df3 = pd.read_csv('data/data_stream/users-stream-3.csv')\n",
    "df4 = pd.read_csv('data/data_stream/users-stream-4.csv')\n",
    "df5 = pd.read_csv('data/data_stream/users-stream-5.csv')\n",
    "df6 = pd.read_csv('data/data_stream/users-stream-6.csv')\n",
    "\n",
    "df = pd.concat([df1,  df2, df3, df4, df5, df6], axis=0)\n",
    "\n",
    "df.to_csv('data/data_stream/users-stream.csv', index=False)"
   ]
  },
  {
   "cell_type": "code",
   "execution_count": 24,
   "metadata": {},
   "outputs": [
    {
     "data": {
      "text/plain": [
       "(59352, 19)"
      ]
     },
     "execution_count": 24,
     "metadata": {},
     "output_type": "execute_result"
    }
   ],
   "source": [
    "df.shape"
   ]
  },
  {
   "cell_type": "code",
   "execution_count": null,
   "metadata": {},
   "outputs": [],
   "source": []
  }
 ],
 "metadata": {
  "kernelspec": {
   "display_name": "base",
   "language": "python",
   "name": "python3"
  },
  "language_info": {
   "codemirror_mode": {
    "name": "ipython",
    "version": 3
   },
   "file_extension": ".py",
   "mimetype": "text/x-python",
   "name": "python",
   "nbconvert_exporter": "python",
   "pygments_lexer": "ipython3",
   "version": "3.10.8"
  },
  "orig_nbformat": 4,
  "vscode": {
   "interpreter": {
    "hash": "ed29fcc266c631214eb0a32dcb461d51a7279cf73c87ecfbb65b364d13f4dbad"
   }
  }
 },
 "nbformat": 4,
 "nbformat_minor": 2
}
